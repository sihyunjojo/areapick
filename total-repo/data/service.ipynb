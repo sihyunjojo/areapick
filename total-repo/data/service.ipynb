{
 "cells": [
  {
   "cell_type": "code",
   "execution_count": 2,
   "id": "94a1758d-f9bb-4119-bfdc-9f687f19cf47",
   "metadata": {},
   "outputs": [],
   "source": [
    "from pyspark.sql import SparkSession\n",
    "import mysql.connector"
   ]
  },
  {
   "cell_type": "code",
   "execution_count": 3,
   "id": "30ecd955-4d1a-4536-aacb-88c3afd4b735",
   "metadata": {},
   "outputs": [
    {
     "name": "stderr",
     "output_type": "stream",
     "text": [
      "Setting default log level to \"WARN\".\n",
      "To adjust logging level use sc.setLogLevel(newLevel). For SparkR, use setLogLevel(newLevel).\n",
      "24/09/23 08:27:13 WARN NativeCodeLoader: Unable to load native-hadoop library for your platform... using builtin-java classes where applicable\n",
      "24/09/23 08:27:14 WARN Utils: Service 'SparkUI' could not bind on port 4040. Attempting port 4041.\n",
      "24/09/23 08:27:14 WARN Utils: Service 'SparkUI' could not bind on port 4041. Attempting port 4042.\n"
     ]
    }
   ],
   "source": [
    "# Spark 세션 시작\n",
    "spark = SparkSession.builder \\\n",
    "    .appName(\"CSV to MariaDB\") \\\n",
    "    .getOrCreate()"
   ]
  },
  {
   "cell_type": "code",
   "execution_count": 4,
   "id": "e8e1199e-d4b7-4d0d-a8a6-c4589177c4f0",
   "metadata": {},
   "outputs": [],
   "source": [
    "connection = mysql.connector.connect(\n",
    "    host=\"13.124.90.34\",\n",
    "    user=\"root\",\n",
    "    password=\"enqnrhkwk108\",\n",
    "    database=\"S11P21D108\",\n",
    "    charset=\"utf8mb4\",  # 문자셋 설정\n",
    "    collation=\"utf8mb4_general_ci\",  # collation 설정\n",
    "    autocommit=False,  # Auto-commit을 끄고 트랜잭션 처리\n",
    "    connection_timeout=28800,  # 타임아웃 증가\n",
    ")"
   ]
  },
  {
   "cell_type": "code",
   "execution_count": 5,
   "id": "d28cd916-3a9c-4d19-bad0-2b09004e9975",
   "metadata": {},
   "outputs": [
    {
     "name": "stderr",
     "output_type": "stream",
     "text": [
      "                                                                                \r"
     ]
    }
   ],
   "source": [
    "# CSV 파일 읽기\n",
    "area_df = spark.read.option(\"encoding\", \"cp949\").csv(\"hdfs://master:9000/input/서울시_상권분석서비스(추정매출-상권).csv\", header=True, inferSchema=True)\n"
   ]
  },
  {
   "cell_type": "code",
   "execution_count": 6,
   "id": "7a66bbba-bd4d-4e08-b879-6b01a69e36d9",
   "metadata": {},
   "outputs": [],
   "source": [
    "# CSV 파일 읽기\n",
    "dong_df = spark.read.option(\"encoding\", \"cp949\").csv(\"hdfs://master:9000/input/서울시_상권분석서비스(추정매출-행정동).csv\", header=True, inferSchema=True)\n"
   ]
  },
  {
   "cell_type": "code",
   "execution_count": 7,
   "id": "0450de5e-7a61-4d88-af98-3031f9b1d6ec",
   "metadata": {},
   "outputs": [],
   "source": [
    "# CSV 파일 읽기\n",
    "gu_df = spark.read.option(\"encoding\", \"cp949\").csv(\"hdfs://master:9000/input/서울시_상권분석서비스(추정매출-자치구).csv\", header=True, inferSchema=True)\n"
   ]
  },
  {
   "cell_type": "code",
   "execution_count": 8,
   "id": "29c207b6-37b5-4267-b66d-30f64d30cf11",
   "metadata": {},
   "outputs": [
    {
     "name": "stdout",
     "output_type": "stream",
     "text": [
      "+----------------+--------------------+\n",
      "|서비스_업종_코드| 서비스_업종_코드_명|\n",
      "+----------------+--------------------+\n",
      "|        CS100009|       호프-간이주점|\n",
      "|        CS300024|       운동/경기용품|\n",
      "|        CS300029|            애완동물|\n",
      "|        CS200030|          피부관리실|\n",
      "|        CS300001|            슈퍼마켓|\n",
      "|        CS300020|                서적|\n",
      "|        CS300007|            육류판매|\n",
      "|        CS100007|          치킨전문점|\n",
      "|        CS200016|              당구장|\n",
      "|        CS200019|                PC방|\n",
      "|        CS300031|                가구|\n",
      "|        CS200008|              한의원|\n",
      "|        CS300026|                완구|\n",
      "|        CS200003|            예술학원|\n",
      "|        CS200025|          자동차수리|\n",
      "|        CS300019|            의료기기|\n",
      "|        CS300003|컴퓨터및주변장치판매|\n",
      "|        CS200005|         스포츠 강습|\n",
      "|        CS200024|          스포츠클럽|\n",
      "|        CS100008|          분식전문점|\n",
      "+----------------+--------------------+\n",
      "only showing top 20 rows\n",
      "\n"
     ]
    }
   ],
   "source": [
    "# '서비스_업종_코드'와 '서비스_업종_코드_명'의 중복 제거\n",
    "unique_service_codes = area_df.select('서비스_업종_코드', '서비스_업종_코드_명').distinct()\n",
    "\n",
    "# 결과 출력\n",
    "unique_service_codes.show()"
   ]
  },
  {
   "cell_type": "code",
   "execution_count": 9,
   "id": "a6a2714a-4fd2-4143-b742-c13012e7b346",
   "metadata": {},
   "outputs": [
    {
     "name": "stdout",
     "output_type": "stream",
     "text": [
      "+----------------+--------------------+\n",
      "|서비스_업종_코드| 서비스_업종_코드_명|\n",
      "+----------------+--------------------+\n",
      "|        CS100009|       호프-간이주점|\n",
      "|        CS300024|       운동/경기용품|\n",
      "|        CS300029|            애완동물|\n",
      "|        CS200030|          피부관리실|\n",
      "|        CS300001|            슈퍼마켓|\n",
      "|        CS300020|                서적|\n",
      "|        CS300007|            육류판매|\n",
      "|        CS100007|          치킨전문점|\n",
      "|        CS200016|              당구장|\n",
      "|        CS200019|                PC방|\n",
      "|        CS200008|              한의원|\n",
      "|        CS300031|                가구|\n",
      "|        CS300026|                완구|\n",
      "|        CS200003|            예술학원|\n",
      "|        CS200025|          자동차수리|\n",
      "|        CS300019|            의료기기|\n",
      "|        CS300003|컴퓨터및주변장치판매|\n",
      "|        CS200005|         스포츠 강습|\n",
      "|        CS200024|          스포츠클럽|\n",
      "|        CS100008|          분식전문점|\n",
      "+----------------+--------------------+\n",
      "only showing top 20 rows\n",
      "\n"
     ]
    }
   ],
   "source": [
    "# '서비스_업종_코드'와 '서비스_업종_코드_명'의 중복 제거\n",
    "unique_service_codes = dong_df.select('서비스_업종_코드', '서비스_업종_코드_명').distinct()\n",
    "\n",
    "# 결과 출력\n",
    "unique_service_codes.show()"
   ]
  },
  {
   "cell_type": "code",
   "execution_count": 10,
   "id": "c64ae21b-d3a3-49fc-bf9d-6759cdbaecb5",
   "metadata": {},
   "outputs": [
    {
     "name": "stdout",
     "output_type": "stream",
     "text": [
      "+----------------+--------------------+\n",
      "|서비스_업종_코드| 서비스_업종_코드_명|\n",
      "+----------------+--------------------+\n",
      "|        CS100009|       호프-간이주점|\n",
      "|        CS300024|       운동/경기용품|\n",
      "|        CS300029|            애완동물|\n",
      "|        CS200030|          피부관리실|\n",
      "|        CS300001|            슈퍼마켓|\n",
      "|        CS300020|                서적|\n",
      "|        CS300007|            육류판매|\n",
      "|        CS100007|          치킨전문점|\n",
      "|        CS200016|              당구장|\n",
      "|        CS200019|                PC방|\n",
      "|        CS300031|                가구|\n",
      "|        CS200008|              한의원|\n",
      "|        CS300026|                완구|\n",
      "|        CS200003|            예술학원|\n",
      "|        CS200025|          자동차수리|\n",
      "|        CS300019|            의료기기|\n",
      "|        CS300003|컴퓨터및주변장치판매|\n",
      "|        CS200005|         스포츠 강습|\n",
      "|        CS200024|          스포츠클럽|\n",
      "|        CS100008|          분식전문점|\n",
      "+----------------+--------------------+\n",
      "only showing top 20 rows\n",
      "\n"
     ]
    }
   ],
   "source": [
    "# '서비스_업종_코드'와 '서비스_업종_코드_명'의 중복 제거\n",
    "unique_service_codes = gu_df.select('서비스_업종_코드', '서비스_업종_코드_명').distinct()\n",
    "\n",
    "# 결과 출력\n",
    "unique_service_codes.show()"
   ]
  },
  {
   "cell_type": "code",
   "execution_count": 11,
   "id": "5c3f7a22-d1a5-4637-8455-b84781345030",
   "metadata": {},
   "outputs": [],
   "source": [
    "def sh_dong(row):\n",
    "          # 삽입할 SQL 쿼리 정의\n",
    "            sql = \"\"\"\n",
    "            INSERT INTO service (service_code,service_name )\n",
    "            VALUES (%s, %s)\n",
    "            \"\"\"\n",
    "            \n",
    "            # 데이터 삽입\n",
    "            cursor.execute(sql, (\n",
    "                row['서비스_업종_코드'],  # service_code\n",
    "              row['서비스_업종_코드_명']\n",
    "            ))"
   ]
  },
  {
   "cell_type": "code",
   "execution_count": 12,
   "id": "b8bfd03b-9c85-4fb2-8451-13eb5e87ccc6",
   "metadata": {},
   "outputs": [],
   "source": [
    "cursor = connection.cursor()\n",
    "\n",
    "# DataFrame의 각 행을 MariaDB에 삽입\n",
    "for row in unique_service_codes.collect():\n",
    "    sh_dong(row)\n",
    "\n",
    "# 변경사항 커밋 및 연결 종료\n",
    "connection.commit()\n",
    "cursor.close()\n",
    "connection.close()"
   ]
  },
  {
   "cell_type": "code",
   "execution_count": null,
   "id": "2c0e8bd7-4007-42ef-9c06-5bfea7405f4f",
   "metadata": {},
   "outputs": [],
   "source": []
  }
 ],
 "metadata": {
  "kernelspec": {
   "display_name": "Python 3 (ipykernel)",
   "language": "python",
   "name": "python3"
  },
  "language_info": {
   "codemirror_mode": {
    "name": "ipython",
    "version": 3
   },
   "file_extension": ".py",
   "mimetype": "text/x-python",
   "name": "python",
   "nbconvert_exporter": "python",
   "pygments_lexer": "ipython3",
   "version": "3.8.10"
  }
 },
 "nbformat": 4,
 "nbformat_minor": 5
}
