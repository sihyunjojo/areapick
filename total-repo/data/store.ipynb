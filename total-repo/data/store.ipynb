{
 "cells": [
  {
   "cell_type": "code",
   "execution_count": 1,
   "id": "93a819de-b9d4-45cc-a6ce-b9bdde802453",
   "metadata": {},
   "outputs": [],
   "source": [
    "from pyspark.sql import SparkSession\n",
    "import mysql.connector"
   ]
  },
  {
   "cell_type": "code",
   "execution_count": 2,
   "id": "8b1ff936-a6f6-46a6-bffa-658028cad5eb",
   "metadata": {},
   "outputs": [
    {
     "name": "stderr",
     "output_type": "stream",
     "text": [
      "Setting default log level to \"WARN\".\n",
      "To adjust logging level use sc.setLogLevel(newLevel). For SparkR, use setLogLevel(newLevel).\n",
      "24/09/24 05:12:49 WARN NativeCodeLoader: Unable to load native-hadoop library for your platform... using builtin-java classes where applicable\n",
      "24/09/24 05:12:50 WARN Utils: Service 'SparkUI' could not bind on port 4040. Attempting port 4041.\n",
      "24/09/24 05:12:50 WARN Utils: Service 'SparkUI' could not bind on port 4041. Attempting port 4042.\n",
      "24/09/24 05:12:50 WARN Utils: Service 'SparkUI' could not bind on port 4042. Attempting port 4043.\n"
     ]
    }
   ],
   "source": [
    "# Spark 세션 시작\n",
    "spark = SparkSession.builder \\\n",
    "    .appName(\"CSV to MariaDB\") \\\n",
    "    .getOrCreate()"
   ]
  },
  {
   "cell_type": "code",
   "execution_count": 3,
   "id": "274ea764-74c8-466c-8d4b-5a078058ac8c",
   "metadata": {},
   "outputs": [],
   "source": [
    "connection = mysql.connector.connect(\n",
    "    host=\"13.124.90.34\",\n",
    "    user=\"root\",\n",
    "    password=\"enqnrhkwk108\",\n",
    "    database=\"S11P21D108\",\n",
    "    charset=\"utf8mb4\",  # 문자셋 설정\n",
    "    collation=\"utf8mb4_general_ci\",  # collation 설정\n",
    "    autocommit=False,  # Auto-commit을 끄고 트랜잭션 처리\n",
    "    connection_timeout=28800,  # 타임아웃 증가\n",
    ")"
   ]
  },
  {
   "cell_type": "code",
   "execution_count": 4,
   "id": "558d8851-6999-422d-a97b-8daea00f114a",
   "metadata": {},
   "outputs": [
    {
     "name": "stderr",
     "output_type": "stream",
     "text": [
      "                                                                                \r"
     ]
    }
   ],
   "source": [
    "# CSV 파일 읽기\n",
    "store_df = spark.read.option(\"encoding\", \"cp949\").csv(\"hdfs://master:9000/input/서울시_상권분석서비스(점포-상권).csv\", header=True, inferSchema=True)\n"
   ]
  },
  {
   "cell_type": "code",
   "execution_count": 5,
   "id": "c944051b-18ca-40c7-be85-66aed5abb678",
   "metadata": {},
   "outputs": [],
   "source": [
    "# CSV 파일 읽기\n",
    "gu_df = spark.read.option(\"encoding\", \"cp949\").csv(\"hdfs://master:9000/input/서울시_상권분석서비스(점포-자치구).csv\", header=True, inferSchema=True)\n"
   ]
  },
  {
   "cell_type": "code",
   "execution_count": 6,
   "id": "d85e559e-89f0-4d75-9e22-5c42648ad565",
   "metadata": {},
   "outputs": [],
   "source": [
    "# CSV 파일 읽기\n",
    "dong_df = spark.read.option(\"encoding\", \"cp949\").csv(\"hdfs://master:9000/input/서울시_상권분석서비스(점포-행정동).csv\", header=True, inferSchema=True)\n"
   ]
  },
  {
   "cell_type": "code",
   "execution_count": 7,
   "id": "ce0f6698-4fe1-4c93-82cd-c2ef06e30619",
   "metadata": {},
   "outputs": [
    {
     "name": "stdout",
     "output_type": "stream",
     "text": [
      "+----------------+---------+----------------+-------------------+-------+-----------------+-------+------------+-------+------------+------------------+\n",
      "|기준_년분기_코드|상권_코드|서비스_업종_코드|서비스_업종_코드_명|점포_수|유사_업종_점포_수|개업_율|개업_점포_수|폐업_률|폐업_점포_수|프랜차이즈_점포_수|\n",
      "+----------------+---------+----------------+-------------------+-------+-----------------+-------+------------+-------+------------+------------------+\n",
      "|           20241|  3001491|        CS100001|         한식음식점|    171|              176|      3|           6|      1|           2|                 5|\n",
      "|           20241|  3001491|        CS100002|         중식음식점|     18|               18|      0|           0|      0|           0|                 0|\n",
      "|           20241|  3001491|        CS100003|         일식음식점|     23|               24|      0|           0|      0|           0|                 1|\n",
      "|           20241|  3001491|        CS100004|         양식음식점|    220|              223|      2|           4|      2|           4|                 3|\n",
      "|           20241|  3001491|        CS100005|             제과점|     21|               26|      0|           0|      0|           0|                 5|\n",
      "|           20241|  3001491|        CS100006|       패스트푸드점|     16|               20|      0|           0|     15|           3|                 4|\n",
      "|           20241|  3001491|        CS100007|         치킨전문점|      3|                3|      0|           0|     33|           1|                 0|\n",
      "|           20241|  3001491|        CS100008|         분식전문점|     62|               63|      3|           2|      6|           4|                 1|\n",
      "|           20241|  3001491|        CS100009|      호프-간이주점|     52|               57|      0|           0|      0|           0|                 5|\n",
      "|           20241|  3001491|        CS100010|          커피-음료|     74|               93|      5|           5|      2|           2|                19|\n",
      "|           20241|  3001491|        CS200001|       일반교습학원|      1|                1|      0|           0|      0|           0|                 0|\n",
      "|           20241|  3001491|        CS200002|         외국어학원|      3|                3|     33|           1|      0|           0|                 0|\n",
      "|           20241|  3001491|        CS200005|        스포츠 강습|      9|                9|     11|           1|      0|           0|                 0|\n",
      "|           20241|  3001491|        CS200006|           일반의원|      8|                8|      0|           0|      0|           0|                 0|\n",
      "|           20241|  3001491|        CS200007|           치과의원|      7|                7|      0|           0|      0|           0|                 0|\n",
      "|           20241|  3001491|        CS200008|             한의원|      1|                1|      0|           0|      0|           0|                 0|\n",
      "|           20241|  3001491|        CS200009|           동물병원|      1|                1|      0|           0|      0|           0|                 0|\n",
      "|           20241|  3001491|        CS200010|       변호사사무소|      4|                4|      0|           0|      0|           0|                 0|\n",
      "|           20241|  3001491|        CS200013|     기타법무서비스|      1|                1|      0|           0|      0|           0|                 0|\n",
      "|           20241|  3001491|        CS200015|       세무사사무소|      4|                4|      0|           0|      0|           0|                 0|\n",
      "+----------------+---------+----------------+-------------------+-------+-----------------+-------+------------+-------+------------+------------------+\n",
      "only showing top 20 rows\n",
      "\n"
     ]
    }
   ],
   "source": [
    "# 필요한 컬럼 선택\n",
    "store_df = store_df.select('기준_년분기_코드', '상권_코드', '서비스_업종_코드',\n",
    "                     '서비스_업종_코드_명', '점포_수', '유사_업종_점포_수', '개업_율', '개업_점포_수', \n",
    "                     '폐업_률', '폐업_점포_수', '프랜차이즈_점포_수')\n",
    "\n",
    "# 기준_년분기_코드가 20241인 데이터 필터링\n",
    "store_2024 = store_df.filter(store_df['기준_년분기_코드'] == 20241)\n",
    "\n",
    "# 결과 확인\n",
    "store_2024.show()"
   ]
  },
  {
   "cell_type": "code",
   "execution_count": 8,
   "id": "84059a1c-840f-47c6-94ad-045649df166d",
   "metadata": {},
   "outputs": [
    {
     "name": "stdout",
     "output_type": "stream",
     "text": [
      "+----------------+-----------+----------------+----------------------+-------+-----------------+-------+------------+-------+------------+------------------+\n",
      "|기준_년분기_코드|자치구_코드|서비스_업종_코드|   서비스_업종_코드_명|점포_수|유사_업종_점포_수|개업_율|개업_점포_수|폐업_률|폐업_점포_수|프랜차이즈_점포_수|\n",
      "+----------------+-----------+----------------+----------------------+-------+-----------------+-------+------------+-------+------------+------------------+\n",
      "|           20241|      11740|        CS300043|          전자상거래업| 2018.0|           2022.0|    0.1|         3.0|    5.8|       117.0|               4.0|\n",
      "|           20241|      11740|        CS300042|                주유소|   37.0|             37.0|    0.0|         0.0|    2.7|         1.0|               0.0|\n",
      "|           20241|      11740|        CS300041|                예술품|   31.0|             31.0|    3.2|         1.0|    0.0|         0.0|               0.0|\n",
      "|           20241|      11740|        CS300040|       재생용품 판매점|   40.0|             40.0|    0.0|         0.0|    2.5|         1.0|               0.0|\n",
      "|           20241|      11740|        CS300039|      모터사이클및부품|   19.0|             19.0|    0.0|         0.0|    0.0|         0.0|               0.0|\n",
      "|           20241|      11740|        CS300038|            자동차부품|   91.0|             93.0|    1.1|         1.0|    1.1|         1.0|               2.0|\n",
      "|           20241|      11740|        CS300037|            중고차판매|    8.0|              8.0|    0.0|         0.0|    0.0|         0.0|               0.0|\n",
      "|           20241|      11740|        CS300036|              조명용품|  137.0|            137.0|    0.0|         0.0|    2.9|         4.0|               0.0|\n",
      "|           20241|      11740|        CS300035|              인테리어|  210.0|            210.0|    0.0|         0.0|    2.9|         6.0|               0.0|\n",
      "|           20241|      11740|        CS300034|                  악기|   21.0|             21.0|    0.0|         0.0|    9.5|         2.0|               0.0|\n",
      "|           20241|      11740|        CS300033|                철물점|  154.0|            155.0|    1.3|         2.0|    2.6|         4.0|               1.0|\n",
      "|           20241|      11740|        CS300032|              가전제품|  137.0|            137.0|    0.0|         0.0|    3.6|         5.0|               0.0|\n",
      "|           20241|      11740|        CS300031|                  가구|  107.0|            107.0|    0.9|         1.0|    1.9|         2.0|               0.0|\n",
      "|           20241|      11740|        CS300030|              중고가구|    3.0|              4.0|    0.0|         0.0|    0.0|         0.0|               1.0|\n",
      "|           20241|      11740|        CS300029|              애완동물|  122.0|            124.0|   11.3|        14.0|    3.2|         4.0|               2.0|\n",
      "|           20241|      11740|        CS300028|                  화초|  241.0|            241.0|    1.7|         4.0|    1.2|         3.0|               0.0|\n",
      "|           20241|      11740|        CS300027|              섬유제품|  136.0|            136.0|    7.4|        10.0|    2.9|         4.0|               0.0|\n",
      "|           20241|      11740|        CS300026|                  완구|   41.0|             41.0|    0.0|         0.0|    2.4|         1.0|               0.0|\n",
      "|           20241|      11740|        CS300025|자전거 및 기타운송장비|   81.0|             81.0|    2.5|         2.0|    1.2|         1.0|               0.0|\n",
      "|           20241|      11740|        CS300024|         운동/경기용품|  194.0|            194.0|    3.1|         6.0|    1.5|         3.0|               0.0|\n",
      "+----------------+-----------+----------------+----------------------+-------+-----------------+-------+------------+-------+------------+------------------+\n",
      "only showing top 20 rows\n",
      "\n"
     ]
    }
   ],
   "source": [
    "# 필요한 컬럼 선택\n",
    "gu_df = gu_df.select('기준_년분기_코드', '자치구_코드', '서비스_업종_코드',\n",
    "                     '서비스_업종_코드_명', '점포_수', '유사_업종_점포_수', '개업_율', '개업_점포_수', \n",
    "                     '폐업_률', '폐업_점포_수', '프랜차이즈_점포_수')\n",
    "\n",
    "# 기준_년분기_코드가 20241인 데이터 필터링\n",
    "gu_2024 = gu_df.filter(gu_df['기준_년분기_코드'] == 20241)\n",
    "\n",
    "# 결과 확인\n",
    "gu_2024.show()"
   ]
  },
  {
   "cell_type": "code",
   "execution_count": 9,
   "id": "280e97e9-42bf-4de1-b717-6c856985504c",
   "metadata": {},
   "outputs": [
    {
     "name": "stdout",
     "output_type": "stream",
     "text": [
      "+----------------+-----------+----------------+-------------------+-------+-----------------+-------+------------+-------+------------+------------------+\n",
      "|기준_년분기_코드|행정동_코드|서비스_업종_코드|서비스_업종_코드_명|점포_수|유사_업종_점포_수|개업_율|개업_점포_수|폐업_률|폐업_점포_수|프랜차이즈_점포_수|\n",
      "+----------------+-----------+----------------+-------------------+-------+-----------------+-------+------------+-------+------------+------------------+\n",
      "|           20241|   11110515|        CS100001|         한식음식점|     93|               93|      2|           2|      2|           2|                 0|\n",
      "|           20241|   11110515|        CS100002|         중식음식점|      2|                2|      0|           0|      0|           0|                 0|\n",
      "|           20241|   11110515|        CS100003|         일식음식점|     15|               16|     13|           2|     13|           2|                 1|\n",
      "|           20241|   11110515|        CS100004|         양식음식점|     49|               49|      6|           3|      0|           0|                 0|\n",
      "|           20241|   11110515|        CS100005|             제과점|     21|               22|      0|           0|      5|           1|                 1|\n",
      "|           20241|   11110515|        CS100006|       패스트푸드점|      3|                4|      0|           0|     25|           1|                 1|\n",
      "|           20241|   11110515|        CS100007|         치킨전문점|      1|                1|      0|           0|      0|           0|                 0|\n",
      "|           20241|   11110515|        CS100008|         분식전문점|     33|               33|      6|           2|      3|           1|                 0|\n",
      "|           20241|   11110515|        CS100009|      호프-간이주점|      9|                9|      0|           0|     11|           1|                 0|\n",
      "|           20241|   11110515|        CS100010|          커피-음료|     97|               98|      7|           7|      2|           2|                 1|\n",
      "|           20241|   11110515|        CS200001|       일반교습학원|      8|                8|      0|           0|      0|           0|                 0|\n",
      "|           20241|   11110515|        CS200002|         외국어학원|      3|                3|      0|           0|      0|           0|                 0|\n",
      "|           20241|   11110515|        CS200003|           예술학원|     14|               14|      0|           0|      0|           0|                 0|\n",
      "|           20241|   11110515|        CS200005|        스포츠 강습|      9|                9|      0|           0|      0|           0|                 0|\n",
      "|           20241|   11110515|        CS200006|           일반의원|      4|                4|      0|           0|      0|           0|                 0|\n",
      "|           20241|   11110515|        CS200007|           치과의원|      1|                1|      0|           0|    200|           2|                 0|\n",
      "|           20241|   11110515|        CS200008|             한의원|      1|                1|      0|           0|      0|           0|                 0|\n",
      "|           20241|   11110515|        CS200009|           동물병원|      1|                1|      0|           0|      0|           0|                 0|\n",
      "|           20241|   11110515|        CS200010|       변호사사무소|      4|                4|      0|           0|      0|           0|                 0|\n",
      "|           20241|   11110515|        CS200012|       법무사사무소|      1|                1|      0|           0|      0|           0|                 0|\n",
      "+----------------+-----------+----------------+-------------------+-------+-----------------+-------+------------+-------+------------+------------------+\n",
      "only showing top 20 rows\n",
      "\n"
     ]
    }
   ],
   "source": [
    "# 필요한 컬럼 선택\n",
    "dong_df = dong_df.select('기준_년분기_코드', '행정동_코드', '서비스_업종_코드',\n",
    "                     '서비스_업종_코드_명', '점포_수', '유사_업종_점포_수', '개업_율', '개업_점포_수', \n",
    "                     '폐업_률', '폐업_점포_수', '프랜차이즈_점포_수')\n",
    "\n",
    "# 기준_년분기_코드가 20241인 데이터 필터링\n",
    "dong_2024 = dong_df.filter(dong_df['기준_년분기_코드'] == 20241)\n",
    "\n",
    "# 결과 확인\n",
    "dong_2024.show()"
   ]
  },
  {
   "cell_type": "code",
   "execution_count": 18,
   "id": "04326957-b664-41f8-a0e7-3684b23b8f4f",
   "metadata": {},
   "outputs": [],
   "source": [
    "def s_area(row):\n",
    "         # 1. service_code가 service 테이블에 존재하는지 확인\n",
    "        select_service_sql = \"\"\"\n",
    "        SELECT service_code FROM service WHERE service_code = %s\n",
    "        \"\"\"\n",
    "        cursor.execute(select_service_sql, (row['서비스_업종_코드'],))\n",
    "        service_exists = cursor.fetchone()\n",
    "\n",
    "        # 2. service_code가 존재하지 않으면 service 테이블에 삽입\n",
    "        if not service_exists:\n",
    "            insert_service_sql = \"\"\"\n",
    "            INSERT INTO service (service_code, service_name) VALUES (%s, %s)\n",
    "            \"\"\"\n",
    "            cursor.execute(insert_service_sql, (row['서비스_업종_코드'], row['서비스_업종_코드_명']))\n",
    "\n",
    "        sql = \"\"\"\n",
    "        INSERT INTO store (service_code, area_id, gu_code, dong_code, year, store_cnt, sim_busin_cnt,\n",
    "                           opening_rate, closing_rate, opening_cnt, closing_cnt, fran_cnt)\n",
    "        VALUES (%s, %s, %s, %s, %s, %s, %s, %s, %s, %s, %s, %s)\n",
    "        \"\"\"\n",
    "        cursor.execute(sql, (row['서비스_업종_코드'], row['상권_코드'],None,None,row['기준_년분기_코드'], row['점포_수'], \n",
    "                             row['유사_업종_점포_수'], row['개업_율'], row['개업_점포_수'],\n",
    "                             row['폐업_률'], row['폐업_점포_수'], row['프랜차이즈_점포_수']))"
   ]
  },
  {
   "cell_type": "code",
   "execution_count": 19,
   "id": "efd79cfd-f118-491c-a814-658dfe2bf912",
   "metadata": {},
   "outputs": [],
   "source": [
    "def s_gu(row):\n",
    "             # 1. service_code가 service 테이블에 존재하는지 확인\n",
    "        select_service_sql = \"\"\"\n",
    "        SELECT service_code FROM service WHERE service_code = %s\n",
    "        \"\"\"\n",
    "        cursor.execute(select_service_sql, (row['서비스_업종_코드'],))\n",
    "        service_exists = cursor.fetchone()\n",
    "\n",
    "        # 2. service_code가 존재하지 않으면 service 테이블에 삽입\n",
    "        if not service_exists:\n",
    "            insert_service_sql = \"\"\"\n",
    "            INSERT INTO service (service_code, service_name) VALUES (%s, %s)\n",
    "            \"\"\"\n",
    "            cursor.execute(insert_service_sql, (row['서비스_업종_코드'], row['서비스_업종_코드_명']))\n",
    "\n",
    "        sql = \"\"\"\n",
    "        INSERT INTO store (service_code, area_id, gu_code, dong_code, year, store_cnt, sim_busin_cnt,\n",
    "                           opening_rate, closing_rate, opening_cnt, closing_cnt, fran_cnt)\n",
    "        VALUES (%s, %s, %s, %s, %s, %s, %s, %s, %s, %s, %s, %s)\n",
    "        \"\"\"\n",
    "        cursor.execute(sql, (row['서비스_업종_코드'],None, row['자치구_코드'],None,row['기준_년분기_코드'], row['점포_수'], \n",
    "                             row['유사_업종_점포_수'], row['개업_율'], row['개업_점포_수'],\n",
    "                             row['폐업_률'], row['폐업_점포_수'], row['프랜차이즈_점포_수']))"
   ]
  },
  {
   "cell_type": "code",
   "execution_count": 20,
   "id": "2a444819-3540-4514-a22a-ceb104e902cb",
   "metadata": {},
   "outputs": [],
   "source": [
    "def s_dong(row):\n",
    "             # 1. service_code가 service 테이블에 존재하는지 확인\n",
    "        select_service_sql = \"\"\"\n",
    "        SELECT service_code FROM service WHERE service_code = %s\n",
    "        \"\"\"\n",
    "        cursor.execute(select_service_sql, (row['서비스_업종_코드'],))\n",
    "        service_exists = cursor.fetchone()\n",
    "\n",
    "        # 2. service_code가 존재하지 않으면 service 테이블에 삽입\n",
    "        if not service_exists:\n",
    "            insert_service_sql = \"\"\"\n",
    "            INSERT INTO service (service_code, service_name) VALUES (%s, %s)\n",
    "            \"\"\"\n",
    "            cursor.execute(insert_service_sql, (row['서비스_업종_코드'], row['서비스_업종_코드_명']))\n",
    "\n",
    "        sql = \"\"\"\n",
    "        INSERT INTO store (service_code, area_id, gu_code, dong_code, year, store_cnt, sim_busin_cnt,\n",
    "                           opening_rate, closing_rate, opening_cnt, closing_cnt, fran_cnt)\n",
    "        VALUES (%s, %s, %s, %s, %s, %s, %s, %s, %s, %s, %s, %s)\n",
    "        \"\"\"\n",
    "        cursor.execute(sql, (row['서비스_업종_코드'],None,None, row['행정동_코드'],row['기준_년분기_코드'], row['점포_수'], \n",
    "                             row['유사_업종_점포_수'], row['개업_율'], row['개업_점포_수'],\n",
    "                             row['폐업_률'], row['폐업_점포_수'], row['프랜차이즈_점포_수']))"
   ]
  },
  {
   "cell_type": "code",
   "execution_count": 21,
   "id": "45bd518c-2868-440a-bc88-75dd501e4a2e",
   "metadata": {},
   "outputs": [],
   "source": [
    "cursor = connection.cursor()\n",
    "\n",
    "# DataFrame의 각 행을 MariaDB에 삽입\n",
    "for row in store_2024.collect():\n",
    "    s_area(row)\n",
    "\n",
    "# DataFrame의 각 행을 MariaDB에 삽입\n",
    "for row in gu_2024.collect():\n",
    "    s_gu(row)\n",
    "\n",
    "# DataFrame의 각 행을 MariaDB에 삽입\n",
    "for row in dong_2024.collect():\n",
    "    s_dong(row)\n",
    "\n",
    "# 변경사항 커밋 및 연결 종료\n",
    "connection.commit()\n",
    "cursor.close()\n",
    "connection.close()"
   ]
  },
  {
   "cell_type": "code",
   "execution_count": null,
   "id": "257e03ff-00d9-401e-97de-8105f718229e",
   "metadata": {},
   "outputs": [],
   "source": []
  }
 ],
 "metadata": {
  "kernelspec": {
   "display_name": "Python 3 (ipykernel)",
   "language": "python",
   "name": "python3"
  },
  "language_info": {
   "codemirror_mode": {
    "name": "ipython",
    "version": 3
   },
   "file_extension": ".py",
   "mimetype": "text/x-python",
   "name": "python",
   "nbconvert_exporter": "python",
   "pygments_lexer": "ipython3",
   "version": "3.8.10"
  }
 },
 "nbformat": 4,
 "nbformat_minor": 5
}
